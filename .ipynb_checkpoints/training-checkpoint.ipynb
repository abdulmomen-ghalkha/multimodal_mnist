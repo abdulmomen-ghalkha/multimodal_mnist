{
 "cells": [
  {
   "cell_type": "code",
   "execution_count": 1,
   "id": "5803fbcf-d75f-427e-b0c7-82d7109fffdf",
   "metadata": {},
   "outputs": [],
   "source": [
    "import torch\n",
    "from torchvision import transforms\n",
    "from torch.utils.data import Dataset, DataLoader\n",
    "import pandas as pd"
   ]
  },
  {
   "cell_type": "code",
   "execution_count": 2,
   "id": "57456448-954f-4bb5-9c50-1621cc70aa7c",
   "metadata": {},
   "outputs": [],
   "source": [
    "dataset_dir = \"data/\"\n",
    "dataset_file = \"multimodal_dataset.csv\"\n",
    "\n",
    "dataset_df = pd.read_csv(dataset_dir + dataset_file)"
   ]
  },
  {
   "cell_type": "code",
   "execution_count": 3,
   "id": "49bb10ed-d250-41a8-b97e-67fe71144c8c",
   "metadata": {},
   "outputs": [
    {
     "data": {
      "text/html": [
       "<div>\n",
       "<style scoped>\n",
       "    .dataframe tbody tr th:only-of-type {\n",
       "        vertical-align: middle;\n",
       "    }\n",
       "\n",
       "    .dataframe tbody tr th {\n",
       "        vertical-align: top;\n",
       "    }\n",
       "\n",
       "    .dataframe thead th {\n",
       "        text-align: right;\n",
       "    }\n",
       "</style>\n",
       "<table border=\"1\" class=\"dataframe\">\n",
       "  <thead>\n",
       "    <tr style=\"text-align: right;\">\n",
       "      <th></th>\n",
       "      <th>Unnamed: 0</th>\n",
       "      <th>feature0</th>\n",
       "      <th>feature1</th>\n",
       "      <th>feature2</th>\n",
       "      <th>feature3</th>\n",
       "      <th>feature4</th>\n",
       "      <th>feature5</th>\n",
       "      <th>feature6</th>\n",
       "      <th>feature7</th>\n",
       "      <th>feature8</th>\n",
       "      <th>...</th>\n",
       "      <th>feature32</th>\n",
       "      <th>feature33</th>\n",
       "      <th>feature34</th>\n",
       "      <th>feature35</th>\n",
       "      <th>feature36</th>\n",
       "      <th>feature37</th>\n",
       "      <th>feature38</th>\n",
       "      <th>feature39</th>\n",
       "      <th>path</th>\n",
       "      <th>class</th>\n",
       "    </tr>\n",
       "  </thead>\n",
       "  <tbody>\n",
       "    <tr>\n",
       "      <th>0</th>\n",
       "      <td>0</td>\n",
       "      <td>-617.90826</td>\n",
       "      <td>101.58977</td>\n",
       "      <td>9.847578</td>\n",
       "      <td>26.403584</td>\n",
       "      <td>25.784245</td>\n",
       "      <td>1.755381</td>\n",
       "      <td>7.380787</td>\n",
       "      <td>-12.520157</td>\n",
       "      <td>8.840893</td>\n",
       "      <td>...</td>\n",
       "      <td>-3.261531</td>\n",
       "      <td>3.752020</td>\n",
       "      <td>-1.915234</td>\n",
       "      <td>-1.827078</td>\n",
       "      <td>-2.776441</td>\n",
       "      <td>2.127649</td>\n",
       "      <td>0.283703</td>\n",
       "      <td>-0.362988</td>\n",
       "      <td>./data/mnist_images/0\\1.png</td>\n",
       "      <td>0</td>\n",
       "    </tr>\n",
       "    <tr>\n",
       "      <th>1</th>\n",
       "      <td>1</td>\n",
       "      <td>-636.50385</td>\n",
       "      <td>104.66348</td>\n",
       "      <td>18.785160</td>\n",
       "      <td>32.966637</td>\n",
       "      <td>32.188750</td>\n",
       "      <td>5.560347</td>\n",
       "      <td>2.799065</td>\n",
       "      <td>-8.271547</td>\n",
       "      <td>8.137912</td>\n",
       "      <td>...</td>\n",
       "      <td>-0.526549</td>\n",
       "      <td>1.419234</td>\n",
       "      <td>-0.246682</td>\n",
       "      <td>-0.890081</td>\n",
       "      <td>-5.292832</td>\n",
       "      <td>4.069287</td>\n",
       "      <td>0.772300</td>\n",
       "      <td>2.229786</td>\n",
       "      <td>./data/mnist_images/0\\10.png</td>\n",
       "      <td>0</td>\n",
       "    </tr>\n",
       "    <tr>\n",
       "      <th>2</th>\n",
       "      <td>2</td>\n",
       "      <td>-600.72955</td>\n",
       "      <td>100.82433</td>\n",
       "      <td>3.306875</td>\n",
       "      <td>20.441507</td>\n",
       "      <td>27.031813</td>\n",
       "      <td>2.805102</td>\n",
       "      <td>7.517792</td>\n",
       "      <td>-12.253216</td>\n",
       "      <td>4.049151</td>\n",
       "      <td>...</td>\n",
       "      <td>-3.493665</td>\n",
       "      <td>1.765706</td>\n",
       "      <td>-1.252896</td>\n",
       "      <td>-1.452544</td>\n",
       "      <td>-4.556331</td>\n",
       "      <td>3.329124</td>\n",
       "      <td>-0.401874</td>\n",
       "      <td>1.102327</td>\n",
       "      <td>./data/mnist_images/0\\1000.png</td>\n",
       "      <td>0</td>\n",
       "    </tr>\n",
       "    <tr>\n",
       "      <th>3</th>\n",
       "      <td>3</td>\n",
       "      <td>-591.32630</td>\n",
       "      <td>110.81088</td>\n",
       "      <td>2.862722</td>\n",
       "      <td>20.751930</td>\n",
       "      <td>25.868662</td>\n",
       "      <td>-0.488132</td>\n",
       "      <td>-4.731595</td>\n",
       "      <td>-16.296522</td>\n",
       "      <td>4.120318</td>\n",
       "      <td>...</td>\n",
       "      <td>-1.963178</td>\n",
       "      <td>0.605708</td>\n",
       "      <td>-2.856485</td>\n",
       "      <td>0.433533</td>\n",
       "      <td>-1.704196</td>\n",
       "      <td>1.299239</td>\n",
       "      <td>-0.282075</td>\n",
       "      <td>0.257796</td>\n",
       "      <td>./data/mnist_images/0\\10005.png</td>\n",
       "      <td>0</td>\n",
       "    </tr>\n",
       "    <tr>\n",
       "      <th>4</th>\n",
       "      <td>4</td>\n",
       "      <td>-619.83620</td>\n",
       "      <td>97.75170</td>\n",
       "      <td>19.811030</td>\n",
       "      <td>26.886065</td>\n",
       "      <td>20.381250</td>\n",
       "      <td>5.995906</td>\n",
       "      <td>-1.315152</td>\n",
       "      <td>-11.737551</td>\n",
       "      <td>5.809255</td>\n",
       "      <td>...</td>\n",
       "      <td>-3.206312</td>\n",
       "      <td>1.513105</td>\n",
       "      <td>0.643656</td>\n",
       "      <td>2.057761</td>\n",
       "      <td>-3.236130</td>\n",
       "      <td>0.692797</td>\n",
       "      <td>-2.332294</td>\n",
       "      <td>1.293126</td>\n",
       "      <td>./data/mnist_images/0\\1001.png</td>\n",
       "      <td>0</td>\n",
       "    </tr>\n",
       "  </tbody>\n",
       "</table>\n",
       "<p>5 rows × 43 columns</p>\n",
       "</div>"
      ],
      "text/plain": [
       "   Unnamed: 0   feature0   feature1   feature2   feature3   feature4  \\\n",
       "0           0 -617.90826  101.58977   9.847578  26.403584  25.784245   \n",
       "1           1 -636.50385  104.66348  18.785160  32.966637  32.188750   \n",
       "2           2 -600.72955  100.82433   3.306875  20.441507  27.031813   \n",
       "3           3 -591.32630  110.81088   2.862722  20.751930  25.868662   \n",
       "4           4 -619.83620   97.75170  19.811030  26.886065  20.381250   \n",
       "\n",
       "   feature5  feature6   feature7  feature8  ...  feature32  feature33  \\\n",
       "0  1.755381  7.380787 -12.520157  8.840893  ...  -3.261531   3.752020   \n",
       "1  5.560347  2.799065  -8.271547  8.137912  ...  -0.526549   1.419234   \n",
       "2  2.805102  7.517792 -12.253216  4.049151  ...  -3.493665   1.765706   \n",
       "3 -0.488132 -4.731595 -16.296522  4.120318  ...  -1.963178   0.605708   \n",
       "4  5.995906 -1.315152 -11.737551  5.809255  ...  -3.206312   1.513105   \n",
       "\n",
       "   feature34  feature35  feature36  feature37  feature38  feature39  \\\n",
       "0  -1.915234  -1.827078  -2.776441   2.127649   0.283703  -0.362988   \n",
       "1  -0.246682  -0.890081  -5.292832   4.069287   0.772300   2.229786   \n",
       "2  -1.252896  -1.452544  -4.556331   3.329124  -0.401874   1.102327   \n",
       "3  -2.856485   0.433533  -1.704196   1.299239  -0.282075   0.257796   \n",
       "4   0.643656   2.057761  -3.236130   0.692797  -2.332294   1.293126   \n",
       "\n",
       "                              path  class  \n",
       "0      ./data/mnist_images/0\\1.png      0  \n",
       "1     ./data/mnist_images/0\\10.png      0  \n",
       "2   ./data/mnist_images/0\\1000.png      0  \n",
       "3  ./data/mnist_images/0\\10005.png      0  \n",
       "4   ./data/mnist_images/0\\1001.png      0  \n",
       "\n",
       "[5 rows x 43 columns]"
      ]
     },
     "execution_count": 3,
     "metadata": {},
     "output_type": "execute_result"
    }
   ],
   "source": [
    "dataset_df.head()"
   ]
  },
  {
   "cell_type": "code",
   "execution_count": 29,
   "id": "d0feb835-e654-4594-9a44-3d4b0d18b4d3",
   "metadata": {},
   "outputs": [],
   "source": [
    "from pathlib import Path\n",
    "from PIL import Image\n",
    "\n",
    "class CustomImageDataset(Dataset):\n",
    "    def __init__(self, csv_file, transform=None):\n",
    "        self.data = pd.read_csv(csv_file)\n",
    "        # Optional: drop unnecessary index column\n",
    "        if 'Unnamed: 0' in self.data.columns:\n",
    "            self.data.drop(columns=['Unnamed: 0'], inplace=True)\n",
    "\n",
    "        # Explicitly store only the feature columns (feature0 to feature39)\n",
    "        self.feature_cols = [f'feature{i}' for i in range(40)]\n",
    "        \n",
    "        \n",
    "        self.transform = transform\n",
    "\n",
    "    def __len__(self):\n",
    "        return len(self.data)\n",
    "\n",
    "    def __getitem__(self, idx):\n",
    "        row = self.data.iloc[idx]\n",
    "\n",
    "        # Extract and cast features to float32\n",
    "        features = torch.tensor(row[self.feature_cols].values.astype('float32'))\n",
    "\n",
    "        # Load image and convert to grayscale\n",
    "        image_path = row['path']\n",
    "        image = Image.open(image_path).convert('L')  # 'L' mode is grayscale\n",
    "        if self.transform:\n",
    "            image = self.transform(image)\n",
    "\n",
    "        # Extract label\n",
    "        label = int(row['class'])\n",
    "\n",
    "        return {\n",
    "            'features': features,\n",
    "            'image': image,\n",
    "            'label': label,\n",
    "            'path': image_path\n",
    "        }"
   ]
  },
  {
   "cell_type": "code",
   "execution_count": 48,
   "id": "8d48e2a0-206a-4870-ba6c-1a4f8775f575",
   "metadata": {},
   "outputs": [
    {
     "name": "stdout",
     "output_type": "stream",
     "text": [
      "Features: tensor([-6.0912e+02,  1.2001e+02,  5.6122e+00,  2.8516e+01,  1.6095e+01,\n",
      "         1.5480e+01,  7.1957e+00, -4.6163e-01,  5.8542e+00, -7.9944e-01,\n",
      "        -3.3629e+00,  1.7297e+00, -4.0322e+00, -9.1066e-01, -1.9390e+00,\n",
      "         6.3424e+00, -1.8770e+00, -4.8751e+00, -4.7109e+00,  5.7536e-02,\n",
      "        -9.8716e+00,  3.4955e+00, -5.1081e+00, -6.4829e+00, -4.2228e+00,\n",
      "         9.3065e-01, -3.1307e+00, -3.4545e-01, -1.0484e+00,  2.3160e+00,\n",
      "        -2.3122e+00,  2.3118e+00,  9.6380e-01,  2.8476e+00, -1.9561e+00,\n",
      "         6.7078e-01,  1.6186e+00,  4.5677e+00, -5.3396e+00,  1.4408e+00])\n",
      "Class: tensor(9)\n",
      "Path: ./data/mnist_images/9\\21872.png\n"
     ]
    }
   ],
   "source": [
    "from torchvision.transforms import ToTensor\n",
    "import matplotlib.pyplot as plt\n",
    "\n",
    "# Dataset setup\n",
    "transform = transforms.Compose([\n",
    "    ToTensor()\n",
    "])\n",
    "dataset = CustomImageDataset(dataset_dir+dataset_file, transform=transform)\n",
    "loader = DataLoader(dataset, batch_size=32, shuffle=True)\n",
    "\n",
    "# Visualize a few examples\n",
    "for batch in loader:\n",
    "    print(\"Features:\", batch['features'][0])\n",
    "    print(\"Class:\", batch['label'][0])\n",
    "    print(\"Path:\", batch['path'][0])\n",
    "    \n",
    "    img = batch['image'][0].permute(1, 2, 0)  # convert to HWC for matplotlib\n",
    "    #plt.imshow(img)\n",
    "    #plt.title(f\"Class: {batch['label'][0]}\")\n",
    "    #plt.axis('off')\n",
    "    #plt.show()\n",
    "    break"
   ]
  },
  {
   "cell_type": "code",
   "execution_count": 49,
   "id": "b44cd21e-e905-4d0c-9eec-a89636419e9d",
   "metadata": {},
   "outputs": [],
   "source": [
    "import torch.nn as nn\n",
    "import torch.nn.functional as F\n",
    "\n",
    "class AudioNet(nn.Module):\n",
    "    def __init__(self):\n",
    "        super(AudioNet, self).__init__()\n",
    "        self.model = nn.Sequential(\n",
    "            nn.Linear(40, 100),\n",
    "            nn.ReLU(),\n",
    "            nn.Linear(100, 100),\n",
    "            nn.ReLU(),\n",
    "            nn.Linear(100, 100),\n",
    "            nn.ReLU(),\n",
    "            nn.Linear(100, 10),  # 10 classes\n",
    "        )\n",
    "\n",
    "    def forward(self, x):\n",
    "        return self.model(x)"
   ]
  },
  {
   "cell_type": "code",
   "execution_count": 55,
   "id": "cf6dd82a-de88-4c52-ba92-4ffbbb5f4024",
   "metadata": {},
   "outputs": [],
   "source": [
    "class ImageCNN(nn.Module):\n",
    "    def __init__(self):\n",
    "        super(ImageCNN, self).__init__()\n",
    "        self.conv1 = nn.Conv2d(1, 16, kernel_size=3, padding=1)\n",
    "        self.conv2 = nn.Conv2d(16, 32, kernel_size=3, padding=1)\n",
    "        self.pool = nn.MaxPool2d(2, 2)\n",
    "        self.fc1 = nn.Linear(32 * 7 * 7, 128)\n",
    "        self.fc2 = nn.Linear(128, 10)\n",
    "\n",
    "    def forward(self, x):\n",
    "        x = self.pool(F.relu(self.conv1(x)))  # 1 -> 16\n",
    "        x = self.pool(F.relu(self.conv2(x)))  # 16 -> 32\n",
    "        x = torch.flatten(x, start_dim=1)\n",
    "        x = F.relu(self.fc1(x))\n",
    "        x = self.fc2(x)\n",
    "        return x"
   ]
  },
  {
   "cell_type": "code",
   "execution_count": 56,
   "id": "4d840283-ee7a-4e5c-b776-e963adc64d55",
   "metadata": {},
   "outputs": [],
   "source": [
    "def evaluate_accuracy(model, loader, device):\n",
    "    model.eval()\n",
    "    correct = 0\n",
    "    total = 0\n",
    "    with torch.no_grad():\n",
    "        for batch in loader:\n",
    "            inputs = batch['features' if isinstance(model, AudioNet) else 'image'].to(device)\n",
    "            labels = batch['label'].to(device)\n",
    "            outputs = model(inputs)\n",
    "            preds = outputs.argmax(dim=1)\n",
    "            correct += (preds == labels).sum().item()\n",
    "            total += labels.size(0)\n",
    "    return correct / total\n"
   ]
  },
  {
   "cell_type": "code",
   "execution_count": 57,
   "id": "9186b1d5-618d-4ad8-9aeb-162599403ea7",
   "metadata": {},
   "outputs": [],
   "source": [
    "from tqdm import tqdm\n",
    "def train_model(model, train_loader, val_loader, device, epochs=10, lr=0.001):\n",
    "    model.to(device)\n",
    "    optimizer = torch.optim.Adam(model.parameters(), lr=lr)\n",
    "    criterion = nn.CrossEntropyLoss()\n",
    "\n",
    "    for epoch in range(epochs):\n",
    "        model.train()\n",
    "        for batch in tqdm(train_loader):\n",
    "            inputs = batch['features' if isinstance(model, AudioNet) else 'image'].to(device)\n",
    "            labels = batch['label'].to(device)\n",
    "\n",
    "            outputs = model(inputs)\n",
    "            loss = criterion(outputs, labels)\n",
    "            optimizer.zero_grad()\n",
    "            loss.backward()\n",
    "            optimizer.step()\n",
    "\n",
    "        val_acc = evaluate_accuracy(model, val_loader, device)\n",
    "        print(f\"Epoch {epoch+1}: Validation Accuracy = {val_acc:.4f}\")\n"
   ]
  },
  {
   "cell_type": "code",
   "execution_count": 58,
   "id": "6a12eee0-72ae-4349-9e53-c0ae21caeede",
   "metadata": {},
   "outputs": [],
   "source": [
    "from torch.utils.data import random_split, DataLoader\n",
    "\n",
    "# Split dataset\n",
    "train_size = int(0.8 * len(dataset))\n",
    "val_size = len(dataset) - train_size\n",
    "train_set, val_set = random_split(dataset, [train_size, val_size])\n",
    "\n",
    "# Audio DataLoader\n",
    "train_data_loader = DataLoader(train_set, batch_size=64, shuffle=True)\n",
    "test_data_loader = DataLoader(val_set, batch_size=64)\n",
    "\n"
   ]
  },
  {
   "cell_type": "code",
   "execution_count": 59,
   "id": "d6e896c6-1135-4f35-9c4d-b8098121e399",
   "metadata": {},
   "outputs": [
    {
     "name": "stderr",
     "output_type": "stream",
     "text": [
      "100%|██████████| 375/375 [01:02<00:00,  6.02it/s]\n"
     ]
    },
    {
     "name": "stdout",
     "output_type": "stream",
     "text": [
      "Epoch 1: Validation Accuracy = 0.8332\n"
     ]
    },
    {
     "name": "stderr",
     "output_type": "stream",
     "text": [
      "100%|██████████| 375/375 [00:48<00:00,  7.75it/s]\n"
     ]
    },
    {
     "name": "stdout",
     "output_type": "stream",
     "text": [
      "Epoch 2: Validation Accuracy = 0.8817\n"
     ]
    },
    {
     "name": "stderr",
     "output_type": "stream",
     "text": [
      "100%|██████████| 375/375 [00:44<00:00,  8.34it/s]\n"
     ]
    },
    {
     "name": "stdout",
     "output_type": "stream",
     "text": [
      "Epoch 3: Validation Accuracy = 0.8888\n"
     ]
    },
    {
     "name": "stderr",
     "output_type": "stream",
     "text": [
      "100%|██████████| 375/375 [00:43<00:00,  8.58it/s]\n"
     ]
    },
    {
     "name": "stdout",
     "output_type": "stream",
     "text": [
      "Epoch 4: Validation Accuracy = 0.8880\n"
     ]
    },
    {
     "name": "stderr",
     "output_type": "stream",
     "text": [
      "100%|██████████| 375/375 [00:43<00:00,  8.55it/s]\n"
     ]
    },
    {
     "name": "stdout",
     "output_type": "stream",
     "text": [
      "Epoch 5: Validation Accuracy = 0.9223\n"
     ]
    },
    {
     "name": "stderr",
     "output_type": "stream",
     "text": [
      "100%|██████████| 375/375 [00:45<00:00,  8.20it/s]\n"
     ]
    },
    {
     "name": "stdout",
     "output_type": "stream",
     "text": [
      "Epoch 6: Validation Accuracy = 0.9233\n"
     ]
    },
    {
     "name": "stderr",
     "output_type": "stream",
     "text": [
      "100%|██████████| 375/375 [00:44<00:00,  8.41it/s]\n"
     ]
    },
    {
     "name": "stdout",
     "output_type": "stream",
     "text": [
      "Epoch 7: Validation Accuracy = 0.9248\n"
     ]
    },
    {
     "name": "stderr",
     "output_type": "stream",
     "text": [
      "100%|██████████| 375/375 [00:47<00:00,  7.92it/s]\n"
     ]
    },
    {
     "name": "stdout",
     "output_type": "stream",
     "text": [
      "Epoch 8: Validation Accuracy = 0.9362\n"
     ]
    },
    {
     "name": "stderr",
     "output_type": "stream",
     "text": [
      "100%|██████████| 375/375 [00:47<00:00,  7.87it/s]\n"
     ]
    },
    {
     "name": "stdout",
     "output_type": "stream",
     "text": [
      "Epoch 9: Validation Accuracy = 0.9400\n"
     ]
    },
    {
     "name": "stderr",
     "output_type": "stream",
     "text": [
      "100%|██████████| 375/375 [00:47<00:00,  7.90it/s]\n"
     ]
    },
    {
     "name": "stdout",
     "output_type": "stream",
     "text": [
      "Epoch 10: Validation Accuracy = 0.9485\n"
     ]
    }
   ],
   "source": [
    "device = torch.device('cuda' if torch.cuda.is_available() else 'cpu')\n",
    "\n",
    "# Audio model\n",
    "audio_model = AudioNet()\n",
    "train_model(audio_model, train_data_loader, test_data_loader, device)\n",
    "\n",
    "# Epoch 10: Validation Accuracy = 0.9485\n"
   ]
  },
  {
   "cell_type": "code",
   "execution_count": 60,
   "id": "b7607ae8-15cc-4f6d-9569-d9709d6828c3",
   "metadata": {},
   "outputs": [
    {
     "name": "stderr",
     "output_type": "stream",
     "text": [
      "100%|██████████| 375/375 [01:59<00:00,  3.15it/s]\n"
     ]
    },
    {
     "name": "stdout",
     "output_type": "stream",
     "text": [
      "Epoch 1: Validation Accuracy = 0.9590\n"
     ]
    },
    {
     "name": "stderr",
     "output_type": "stream",
     "text": [
      "100%|██████████| 375/375 [01:50<00:00,  3.40it/s]\n"
     ]
    },
    {
     "name": "stdout",
     "output_type": "stream",
     "text": [
      "Epoch 2: Validation Accuracy = 0.9732\n"
     ]
    },
    {
     "name": "stderr",
     "output_type": "stream",
     "text": [
      "100%|██████████| 375/375 [02:01<00:00,  3.08it/s]\n"
     ]
    },
    {
     "name": "stdout",
     "output_type": "stream",
     "text": [
      "Epoch 3: Validation Accuracy = 0.9732\n"
     ]
    },
    {
     "name": "stderr",
     "output_type": "stream",
     "text": [
      "100%|██████████| 375/375 [01:49<00:00,  3.43it/s]\n"
     ]
    },
    {
     "name": "stdout",
     "output_type": "stream",
     "text": [
      "Epoch 4: Validation Accuracy = 0.9772\n"
     ]
    },
    {
     "name": "stderr",
     "output_type": "stream",
     "text": [
      "100%|██████████| 375/375 [01:51<00:00,  3.35it/s]\n"
     ]
    },
    {
     "name": "stdout",
     "output_type": "stream",
     "text": [
      "Epoch 5: Validation Accuracy = 0.9820\n"
     ]
    },
    {
     "name": "stderr",
     "output_type": "stream",
     "text": [
      "100%|██████████| 375/375 [01:38<00:00,  3.82it/s]\n"
     ]
    },
    {
     "name": "stdout",
     "output_type": "stream",
     "text": [
      "Epoch 6: Validation Accuracy = 0.9832\n"
     ]
    },
    {
     "name": "stderr",
     "output_type": "stream",
     "text": [
      "100%|██████████| 375/375 [01:51<00:00,  3.37it/s]\n"
     ]
    },
    {
     "name": "stdout",
     "output_type": "stream",
     "text": [
      "Epoch 7: Validation Accuracy = 0.9833\n"
     ]
    },
    {
     "name": "stderr",
     "output_type": "stream",
     "text": [
      "100%|██████████| 375/375 [01:49<00:00,  3.44it/s]\n"
     ]
    },
    {
     "name": "stdout",
     "output_type": "stream",
     "text": [
      "Epoch 8: Validation Accuracy = 0.9838\n"
     ]
    },
    {
     "name": "stderr",
     "output_type": "stream",
     "text": [
      "100%|██████████| 375/375 [01:42<00:00,  3.65it/s]\n"
     ]
    },
    {
     "name": "stdout",
     "output_type": "stream",
     "text": [
      "Epoch 9: Validation Accuracy = 0.9778\n"
     ]
    },
    {
     "name": "stderr",
     "output_type": "stream",
     "text": [
      "100%|██████████| 375/375 [01:51<00:00,  3.35it/s]\n"
     ]
    },
    {
     "name": "stdout",
     "output_type": "stream",
     "text": [
      "Epoch 10: Validation Accuracy = 0.9830\n"
     ]
    }
   ],
   "source": [
    "# Image model\n",
    "#image_model = ImageCNN()\n",
    "#train_model(image_model, train_data_loader, test_data_loader, device)\n",
    "# Epoch 10: Validation Accuracy = 0.9830"
   ]
  },
  {
   "cell_type": "code",
   "execution_count": 68,
   "id": "17c5addd-299c-431b-a373-929239f1b4fd",
   "metadata": {},
   "outputs": [],
   "source": [
    "import torch\n",
    "import torch.nn as nn\n",
    "import torch.optim as optim\n",
    "from torch.utils.data import Dataset, DataLoader\n",
    "import torch.nn.functional as F\n",
    "import random\n"
   ]
  },
  {
   "cell_type": "code",
   "execution_count": 69,
   "id": "e417abc8-cd11-40b0-94cc-6a1a7a1e4401",
   "metadata": {},
   "outputs": [],
   "source": [
    "class AudioNetWrapper(nn.Module):\n",
    "    def __init__(self, audio_model):\n",
    "        super().__init__()\n",
    "        self.audio_model = audio_model.model[:-1]  # exclude last layer\n",
    "\n",
    "    def forward(self, x):\n",
    "        return self.audio_model(x)  # returns (batch, 100)\n",
    "    \n",
    "\n",
    "class ImageCNNWrapper(nn.Module):\n",
    "    def __init__(self, image_model):\n",
    "        super().__init__()\n",
    "        self.image_model = image_model\n",
    "\n",
    "    def forward(self, x):\n",
    "        x = self.image_model.pool(F.relu(self.image_model.conv1(x)))\n",
    "        x = self.image_model.pool(F.relu(self.image_model.conv2(x)))\n",
    "        x = torch.flatten(x, start_dim=1)\n",
    "        x = F.relu(self.image_model.fc1(x))  # (batch, 128)\n",
    "        return x"
   ]
  },
  {
   "cell_type": "code",
   "execution_count": 70,
   "id": "eb0575a2-13ba-40d0-8299-f312f64bf4b0",
   "metadata": {},
   "outputs": [],
   "source": [
    "class AttentionFusion(nn.Module):\n",
    "    def __init__(self, dim):\n",
    "        super().__init__()\n",
    "        self.query = nn.Linear(dim, dim)\n",
    "        self.key = nn.Linear(dim, dim)\n",
    "        self.value = nn.Linear(dim, dim)\n",
    "        self.softmax = nn.Softmax(dim=1)\n",
    "\n",
    "    def forward(self, a, b):\n",
    "        # a and b are (batch, dim)\n",
    "        queries = self.query(a).unsqueeze(1)  # (batch, 1, dim)\n",
    "        keys = torch.stack([self.key(a), self.key(b)], dim=1)    # (batch, 2, dim)\n",
    "        values = torch.stack([self.value(a), self.value(b)], dim=1)  # (batch, 2, dim)\n",
    "\n",
    "        scores = torch.bmm(queries, keys.transpose(1, 2)) / (keys.size(-1) ** 0.5)  # (batch, 1, 2)\n",
    "        weights = self.softmax(scores)  # (batch, 1, 2)\n",
    "\n",
    "        fused = torch.bmm(weights, values).squeeze(1)  # (batch, dim)\n",
    "        return fused\n"
   ]
  },
  {
   "cell_type": "code",
   "execution_count": 71,
   "id": "39c1c791-69c8-427f-a99b-eedf1c2e1146",
   "metadata": {},
   "outputs": [],
   "source": [
    "class FusionModel(nn.Module):\n",
    "    def __init__(self, audio_model, image_model, aligned_dim=128, num_classes=10):\n",
    "        super().__init__()\n",
    "        self.model_a = AudioNetWrapper(audio_model)   # outputs 100\n",
    "        self.model_b = ImageCNNWrapper(image_model)   # outputs 128\n",
    "\n",
    "        # Align dimensions\n",
    "        self.align_a = nn.Linear(100, aligned_dim)\n",
    "        self.align_b = nn.Linear(128, aligned_dim)\n",
    "\n",
    "        # Attention-based fusion\n",
    "        self.attn = AttentionFusion(aligned_dim)\n",
    "\n",
    "        # Final classifier\n",
    "        self.classifier = nn.Linear(aligned_dim, num_classes)\n",
    "\n",
    "    def forward(self, audio_input, image_input):\n",
    "        feat_a = self.model_a(audio_input)  # (batch, 100)\n",
    "        feat_b = self.model_b(image_input)  # (batch, 128)\n",
    "\n",
    "        aligned_a = self.align_a(feat_a)  # (batch, aligned_dim)\n",
    "        aligned_b = self.align_b(feat_b)  # (batch, aligned_dim)\n",
    "\n",
    "        fused = self.attn(aligned_a, aligned_b)  # (batch, aligned_dim)\n",
    "        return self.classifier(fused)\n"
   ]
  },
  {
   "cell_type": "code",
   "execution_count": 76,
   "id": "9fa2c22e-7827-4be8-ad91-0a6226d31ec7",
   "metadata": {},
   "outputs": [],
   "source": [
    "def train_epoch(model, dataloader, criterion, optimizer, device):\n",
    "    model.train()\n",
    "    total_loss, correct, total = 0, 0, 0\n",
    "\n",
    "    for batch in tqdm(dataloader):\n",
    "        audio = batch[\"features\"].to(device)\n",
    "        image = batch[\"image\"].to(device)\n",
    "        labels = batch[\"label\"].to(device)\n",
    "\n",
    "        outputs = model(audio, image)\n",
    "        loss = criterion(outputs, labels)\n",
    "\n",
    "        optimizer.zero_grad()\n",
    "        loss.backward()\n",
    "        optimizer.step()\n",
    "\n",
    "        total_loss += loss.item() * labels.size(0)\n",
    "        _, preds = torch.max(outputs, 1)\n",
    "        correct += (preds == labels).sum().item()\n",
    "        total += labels.size(0)\n",
    "\n",
    "    avg_loss = total_loss / total\n",
    "    accuracy = correct / total\n",
    "    return avg_loss, accuracy\n",
    "\n",
    "\n",
    "def evaluate(model, dataloader, criterion, device):\n",
    "    model.eval()\n",
    "    total_loss, correct, total = 0, 0, 0\n",
    "\n",
    "    with torch.no_grad():\n",
    "        for batch in tqdm(dataloader):\n",
    "            audio = batch[\"features\"].to(device)\n",
    "            image = batch[\"image\"].to(device)\n",
    "            labels = batch[\"label\"].to(device)\n",
    "\n",
    "            outputs = model(audio, image)\n",
    "            loss = criterion(outputs, labels)\n",
    "\n",
    "            total_loss += loss.item() * labels.size(0)\n",
    "            _, preds = torch.max(outputs, 1)\n",
    "            correct += (preds == labels).sum().item()\n",
    "            total += labels.size(0)\n",
    "\n",
    "    avg_loss = total_loss / total\n",
    "    accuracy = correct / total\n",
    "    return avg_loss, accuracy\n"
   ]
  },
  {
   "cell_type": "code",
   "execution_count": 77,
   "id": "72759b67-7594-4a49-aa9a-e6492b223d44",
   "metadata": {},
   "outputs": [
    {
     "ename": "KeyboardInterrupt",
     "evalue": "",
     "output_type": "error",
     "traceback": [
      "\u001b[1;31m---------------------------------------------------------------------------\u001b[0m",
      "\u001b[1;31mKeyboardInterrupt\u001b[0m                         Traceback (most recent call last)",
      "Cell \u001b[1;32mIn[77], line 20\u001b[0m\n\u001b[0;32m     18\u001b[0m epochs \u001b[38;5;241m=\u001b[39m \u001b[38;5;241m10\u001b[39m\n\u001b[0;32m     19\u001b[0m \u001b[38;5;28;01mfor\u001b[39;00m epoch \u001b[38;5;129;01min\u001b[39;00m \u001b[38;5;28mrange\u001b[39m(epochs):\n\u001b[1;32m---> 20\u001b[0m     train_loss, train_acc \u001b[38;5;241m=\u001b[39m \u001b[43mtrain_epoch\u001b[49m\u001b[43m(\u001b[49m\u001b[43mmodel\u001b[49m\u001b[43m,\u001b[49m\u001b[43m \u001b[49m\u001b[43mtrain_data_loader\u001b[49m\u001b[43m,\u001b[49m\u001b[43m \u001b[49m\u001b[43mcriterion\u001b[49m\u001b[43m,\u001b[49m\u001b[43m \u001b[49m\u001b[43moptimizer\u001b[49m\u001b[43m,\u001b[49m\u001b[43m \u001b[49m\u001b[43mdevice\u001b[49m\u001b[43m)\u001b[49m\n\u001b[0;32m     21\u001b[0m     test_loss, test_acc \u001b[38;5;241m=\u001b[39m evaluate(model, test_data_loader, criterion, device)\n\u001b[0;32m     23\u001b[0m     \u001b[38;5;28mprint\u001b[39m(\u001b[38;5;124mf\u001b[39m\u001b[38;5;124m\"\u001b[39m\u001b[38;5;124mEpoch \u001b[39m\u001b[38;5;132;01m{\u001b[39;00mepoch\u001b[38;5;241m+\u001b[39m\u001b[38;5;241m1\u001b[39m\u001b[38;5;132;01m}\u001b[39;00m\u001b[38;5;124m/\u001b[39m\u001b[38;5;132;01m{\u001b[39;00mepochs\u001b[38;5;132;01m}\u001b[39;00m\u001b[38;5;124m | Train Loss: \u001b[39m\u001b[38;5;132;01m{\u001b[39;00mtrain_loss\u001b[38;5;132;01m:\u001b[39;00m\u001b[38;5;124m.4f\u001b[39m\u001b[38;5;132;01m}\u001b[39;00m\u001b[38;5;124m Acc: \u001b[39m\u001b[38;5;132;01m{\u001b[39;00mtrain_acc\u001b[38;5;132;01m:\u001b[39;00m\u001b[38;5;124m.4f\u001b[39m\u001b[38;5;132;01m}\u001b[39;00m\u001b[38;5;124m | Test Loss: \u001b[39m\u001b[38;5;132;01m{\u001b[39;00mtest_loss\u001b[38;5;132;01m:\u001b[39;00m\u001b[38;5;124m.4f\u001b[39m\u001b[38;5;132;01m}\u001b[39;00m\u001b[38;5;124m Acc: \u001b[39m\u001b[38;5;132;01m{\u001b[39;00mtest_acc\u001b[38;5;132;01m:\u001b[39;00m\u001b[38;5;124m.4f\u001b[39m\u001b[38;5;132;01m}\u001b[39;00m\u001b[38;5;124m\"\u001b[39m)\n",
      "Cell \u001b[1;32mIn[76], line 14\u001b[0m, in \u001b[0;36mtrain_epoch\u001b[1;34m(model, dataloader, criterion, optimizer, device)\u001b[0m\n\u001b[0;32m     11\u001b[0m loss \u001b[38;5;241m=\u001b[39m criterion(outputs, labels)\n\u001b[0;32m     13\u001b[0m optimizer\u001b[38;5;241m.\u001b[39mzero_grad()\n\u001b[1;32m---> 14\u001b[0m \u001b[43mloss\u001b[49m\u001b[38;5;241;43m.\u001b[39;49m\u001b[43mbackward\u001b[49m\u001b[43m(\u001b[49m\u001b[43m)\u001b[49m\n\u001b[0;32m     15\u001b[0m optimizer\u001b[38;5;241m.\u001b[39mstep()\n\u001b[0;32m     17\u001b[0m total_loss \u001b[38;5;241m+\u001b[39m\u001b[38;5;241m=\u001b[39m loss\u001b[38;5;241m.\u001b[39mitem() \u001b[38;5;241m*\u001b[39m labels\u001b[38;5;241m.\u001b[39msize(\u001b[38;5;241m0\u001b[39m)\n",
      "File \u001b[1;32m~\\AppData\\Local\\anaconda3\\envs\\fmtl_sheaves\\lib\\site-packages\\torch\\_tensor.py:522\u001b[0m, in \u001b[0;36mTensor.backward\u001b[1;34m(self, gradient, retain_graph, create_graph, inputs)\u001b[0m\n\u001b[0;32m    512\u001b[0m \u001b[38;5;28;01mif\u001b[39;00m has_torch_function_unary(\u001b[38;5;28mself\u001b[39m):\n\u001b[0;32m    513\u001b[0m     \u001b[38;5;28;01mreturn\u001b[39;00m handle_torch_function(\n\u001b[0;32m    514\u001b[0m         Tensor\u001b[38;5;241m.\u001b[39mbackward,\n\u001b[0;32m    515\u001b[0m         (\u001b[38;5;28mself\u001b[39m,),\n\u001b[1;32m   (...)\u001b[0m\n\u001b[0;32m    520\u001b[0m         inputs\u001b[38;5;241m=\u001b[39minputs,\n\u001b[0;32m    521\u001b[0m     )\n\u001b[1;32m--> 522\u001b[0m \u001b[43mtorch\u001b[49m\u001b[38;5;241;43m.\u001b[39;49m\u001b[43mautograd\u001b[49m\u001b[38;5;241;43m.\u001b[39;49m\u001b[43mbackward\u001b[49m\u001b[43m(\u001b[49m\n\u001b[0;32m    523\u001b[0m \u001b[43m    \u001b[49m\u001b[38;5;28;43mself\u001b[39;49m\u001b[43m,\u001b[49m\u001b[43m \u001b[49m\u001b[43mgradient\u001b[49m\u001b[43m,\u001b[49m\u001b[43m \u001b[49m\u001b[43mretain_graph\u001b[49m\u001b[43m,\u001b[49m\u001b[43m \u001b[49m\u001b[43mcreate_graph\u001b[49m\u001b[43m,\u001b[49m\u001b[43m \u001b[49m\u001b[43minputs\u001b[49m\u001b[38;5;241;43m=\u001b[39;49m\u001b[43minputs\u001b[49m\n\u001b[0;32m    524\u001b[0m \u001b[43m\u001b[49m\u001b[43m)\u001b[49m\n",
      "File \u001b[1;32m~\\AppData\\Local\\anaconda3\\envs\\fmtl_sheaves\\lib\\site-packages\\torch\\autograd\\__init__.py:266\u001b[0m, in \u001b[0;36mbackward\u001b[1;34m(tensors, grad_tensors, retain_graph, create_graph, grad_variables, inputs)\u001b[0m\n\u001b[0;32m    261\u001b[0m     retain_graph \u001b[38;5;241m=\u001b[39m create_graph\n\u001b[0;32m    263\u001b[0m \u001b[38;5;66;03m# The reason we repeat the same comment below is that\u001b[39;00m\n\u001b[0;32m    264\u001b[0m \u001b[38;5;66;03m# some Python versions print out the first line of a multi-line function\u001b[39;00m\n\u001b[0;32m    265\u001b[0m \u001b[38;5;66;03m# calls in the traceback and some print out the last line\u001b[39;00m\n\u001b[1;32m--> 266\u001b[0m \u001b[43mVariable\u001b[49m\u001b[38;5;241;43m.\u001b[39;49m\u001b[43m_execution_engine\u001b[49m\u001b[38;5;241;43m.\u001b[39;49m\u001b[43mrun_backward\u001b[49m\u001b[43m(\u001b[49m\u001b[43m  \u001b[49m\u001b[38;5;66;43;03m# Calls into the C++ engine to run the backward pass\u001b[39;49;00m\n\u001b[0;32m    267\u001b[0m \u001b[43m    \u001b[49m\u001b[43mtensors\u001b[49m\u001b[43m,\u001b[49m\n\u001b[0;32m    268\u001b[0m \u001b[43m    \u001b[49m\u001b[43mgrad_tensors_\u001b[49m\u001b[43m,\u001b[49m\n\u001b[0;32m    269\u001b[0m \u001b[43m    \u001b[49m\u001b[43mretain_graph\u001b[49m\u001b[43m,\u001b[49m\n\u001b[0;32m    270\u001b[0m \u001b[43m    \u001b[49m\u001b[43mcreate_graph\u001b[49m\u001b[43m,\u001b[49m\n\u001b[0;32m    271\u001b[0m \u001b[43m    \u001b[49m\u001b[43minputs\u001b[49m\u001b[43m,\u001b[49m\n\u001b[0;32m    272\u001b[0m \u001b[43m    \u001b[49m\u001b[43mallow_unreachable\u001b[49m\u001b[38;5;241;43m=\u001b[39;49m\u001b[38;5;28;43;01mTrue\u001b[39;49;00m\u001b[43m,\u001b[49m\n\u001b[0;32m    273\u001b[0m \u001b[43m    \u001b[49m\u001b[43maccumulate_grad\u001b[49m\u001b[38;5;241;43m=\u001b[39;49m\u001b[38;5;28;43;01mTrue\u001b[39;49;00m\u001b[43m,\u001b[49m\n\u001b[0;32m    274\u001b[0m \u001b[43m\u001b[49m\u001b[43m)\u001b[49m\n",
      "\u001b[1;31mKeyboardInterrupt\u001b[0m: "
     ]
    }
   ],
   "source": [
    "# Initialize models\n",
    "audio_model = AudioNet()\n",
    "image_model = ImageCNN()\n",
    "model = FusionModel(audio_model, image_model)\n",
    "\n",
    "# Device config\n",
    "device = torch.device(\"cuda\" if torch.cuda.is_available() else \"cpu\")\n",
    "model = model.to(device)\n",
    "\n",
    "# Optimizer, loss\n",
    "optimizer = optim.Adam(model.parameters(), lr=1e-3)\n",
    "criterion = nn.CrossEntropyLoss()\n",
    "\n",
    "# Data\n",
    "\n",
    "\n",
    "# Train loop\n",
    "epochs = 10\n",
    "for epoch in range(epochs):\n",
    "    train_loss, train_acc = train_epoch(model, train_data_loader, criterion, optimizer, device)\n",
    "    test_loss, test_acc = evaluate(model, test_data_loader, criterion, device)\n",
    "\n",
    "    print(f\"Epoch {epoch+1}/{epochs} | Train Loss: {train_loss:.4f} Acc: {train_acc:.4f} | Test Loss: {test_loss:.4f} Acc: {test_acc:.4f}\")\n"
   ]
  }
 ],
 "metadata": {
  "kernelspec": {
   "display_name": "Python 3 (ipykernel)",
   "language": "python",
   "name": "python3"
  },
  "language_info": {
   "codemirror_mode": {
    "name": "ipython",
    "version": 3
   },
   "file_extension": ".py",
   "mimetype": "text/x-python",
   "name": "python",
   "nbconvert_exporter": "python",
   "pygments_lexer": "ipython3",
   "version": "3.9.20"
  }
 },
 "nbformat": 4,
 "nbformat_minor": 5
}
